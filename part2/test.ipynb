{
 "cells": [
  {
   "cell_type": "markdown",
   "metadata": {},
   "source": [
    "# 1、载入原始图并进行掩膜的初始化"
   ]
  },
  {
   "cell_type": "code",
   "execution_count": 1,
   "metadata": {},
   "outputs": [],
   "source": [
    "import cv2\n",
    "import numpy as np\n",
    "import matplotlib.pyplot as plt\n",
    "\n",
    "# 读取图像\n",
    "img1 = cv2.imread(\"E:/jupyter_notebook_files/ImageAndVideoProcess/test2/2.jpg\")\n",
    "# 创建一个名为lesson的窗口\n",
    "cv2.namedWindow(\"lesson\")\n",
    "# 显示图像\n",
    "cv2.imshow(\"lesson\", img1)\n",
    "# hold image\n",
    "cv2.waitKey(0)\n",
    "cv2.destroyAllWindows()"
   ]
  },
  {
   "cell_type": "markdown",
   "metadata": {},
   "source": [
    "# 2、对原图像进行去噪并显示 "
   ]
  },
  {
   "cell_type": "markdown",
   "metadata": {},
   "source": [
    "#### 中值滤波的思想就是比较一定领域内的像素值的大小，取出其中值作为这个领域的中心像素新的值\n",
    "- ##### 假设对一定领域内的所有像素从小到大进行排序，如果存在孤立的噪声点，比如椒盐噪声（椒噪声——较小的灰度值，呈现的效果是小黑点；盐噪声——较大的灰度值，呈现的效果是小白点），那么从小到大排序的这个数组中，那些孤立的噪声一定会分布在两边（要么很小，要么很大），这样子取出的中值点可以很好地保留像素信息，而滤除了噪声点的影响。\n"
   ]
  },
  {
   "cell_type": "code",
   "execution_count": 5,
   "metadata": {},
   "outputs": [
    {
     "ename": "NameError",
     "evalue": "name 'img1' is not defined",
     "output_type": "error",
     "traceback": [
      "\u001b[1;31m---------------------------------------------------------------------------\u001b[0m",
      "\u001b[1;31mNameError\u001b[0m                                 Traceback (most recent call last)",
      "\u001b[1;32m<ipython-input-5-a25063590bcd>\u001b[0m in \u001b[0;36m<module>\u001b[1;34m\u001b[0m\n\u001b[1;32m----> 1\u001b[1;33m \u001b[0mmeanValue_img\u001b[0m\u001b[1;33m=\u001b[0m\u001b[0mcv2\u001b[0m\u001b[1;33m.\u001b[0m\u001b[0mmedianBlur\u001b[0m\u001b[1;33m(\u001b[0m\u001b[0mimg1\u001b[0m\u001b[1;33m,\u001b[0m\u001b[1;36m3\u001b[0m\u001b[1;33m)\u001b[0m\u001b[1;33m\u001b[0m\u001b[1;33m\u001b[0m\u001b[0m\n\u001b[0m\u001b[0;32m      2\u001b[0m \u001b[1;31m#输出处理好的图像\u001b[0m\u001b[1;33m\u001b[0m\u001b[1;33m\u001b[0m\u001b[1;33m\u001b[0m\u001b[0m\n\u001b[0;32m      3\u001b[0m \u001b[0mcv2\u001b[0m\u001b[1;33m.\u001b[0m\u001b[0mimwrite\u001b[0m\u001b[1;33m(\u001b[0m\u001b[1;34m\"2_1.jpg\"\u001b[0m\u001b[1;33m,\u001b[0m \u001b[0mmeanValue_img\u001b[0m\u001b[1;33m)\u001b[0m\u001b[1;33m\u001b[0m\u001b[1;33m\u001b[0m\u001b[0m\n\u001b[0;32m      4\u001b[0m \u001b[0mcv2\u001b[0m\u001b[1;33m.\u001b[0m\u001b[0mimshow\u001b[0m\u001b[1;33m(\u001b[0m\u001b[1;34m'src'\u001b[0m\u001b[1;33m,\u001b[0m\u001b[0mimg1\u001b[0m\u001b[1;33m)\u001b[0m\u001b[1;33m\u001b[0m\u001b[1;33m\u001b[0m\u001b[0m\n\u001b[0;32m      5\u001b[0m \u001b[0mcv2\u001b[0m\u001b[1;33m.\u001b[0m\u001b[0mimshow\u001b[0m\u001b[1;33m(\u001b[0m\u001b[1;34m'out'\u001b[0m\u001b[1;33m,\u001b[0m\u001b[0mmeanValue_img\u001b[0m\u001b[1;33m)\u001b[0m\u001b[1;33m\u001b[0m\u001b[1;33m\u001b[0m\u001b[0m\n",
      "\u001b[1;31mNameError\u001b[0m: name 'img1' is not defined"
     ]
    }
   ],
   "source": [
    "meanValue_img=cv2.medianBlur(img1,3)\n",
    "#输出处理好的图像\n",
    "cv2.imwrite(\"2_1.jpg\", meanValue_img)\n",
    "cv2.imshow('src',img1)\n",
    "cv2.imshow('out',meanValue_img)\n",
    "cv2.waitKey()\n",
    "cv2.destroyAllWindows() "
   ]
  },
  {
   "cell_type": "markdown",
   "metadata": {},
   "source": [
    "# 3、设置鼠标回调函数"
   ]
  },
  {
   "cell_type": "code",
   "execution_count": 6,
   "metadata": {},
   "outputs": [],
   "source": [
    "import cv2\n",
    "import numpy as np\n",
    " \n",
    "drawing = False  # 当鼠标按下变为True\n",
    "ix, iy = -1, -1  # 初始化鼠标位置\n",
    " \n",
    " \n",
    "def on_mouse(event, x, y, flags, param):  # 创建回调函数\n",
    "    global ix, iy, drawing\n",
    "    if event == cv2.EVENT_LBUTTONDOWN:  # 按下左键\n",
    "        drawing = True  # 开始绘制\n",
    "        ix, iy = x, y  # 赋予按下时的鼠标坐标\n",
    "    elif event == cv2.EVENT_MOUSEMOVE and flags == cv2.EVENT_FLAG_LBUTTON:  # 当按下左键拖拽鼠标时\n",
    "        if drawing is True:\n",
    "            cv2.circle(img2, (x, y), 3, (255, 255, 255), -1) \n",
    "    \n",
    "img2 = cv2.imread(\"E:/jupyter_notebook_files/ImageAndVideoProcess/test2/2_1.jpg\")\n",
    "cv2.namedWindow('image')  # 创建空窗口\n",
    "cv2.setMouseCallback('image', on_mouse)  # 将回调函数与窗口绑定\n",
    "while(1):\n",
    "    cv2.imshow('image', img2)\n",
    "    k = cv2.waitKey(1) & 0xFF\n",
    "    if k == 27:  # 按ESC退出\n",
    "        #cv2.imwrite(\"2_2.jpg\", img)\n",
    "        break\n",
    "    #按“x”键对图像进行复原\n",
    "    elif k == ord('x'):\n",
    "        #print(\"hello!\")\n",
    "        #img2 = cv2.imread('E:/jupyter_notebook_files/ImageAndVideoProcess/test2/2_1.jpg')  \n",
    "        \n",
    "        #方法二：\n",
    "        #将画的图案提取为掩膜\n",
    "        #因为图案是白色的，所以将一个灰色的图片，变成要么是白色要么就是黑色。（大于规定thresh值就是设置的最大值（常为255，也就是白色））\n",
    "        imggray = cv2.cvtColor(img2,cv2.COLOR_BGR2GRAY)     #通过cvtColor库将其转为灰度\n",
    "        #将灰度值二值化，得到ROI区域掩模\n",
    "        ret, mask = cv2.threshold(imggray, 253, 255, cv2.THRESH_BINARY)\n",
    "        \n",
    "        #下面是两种不同的修复方式\n",
    "        img2 = cv2.inpaint(img2,mask,3,cv2.INPAINT_TELEA)\n",
    "        #img2 = cv2.inpaint(img2,mask,3,cv2.INPAINT_NS)\n",
    "cv2.destroyAllWindows()"
   ]
  },
  {
   "cell_type": "markdown",
   "metadata": {},
   "source": [
    "# 思考题1"
   ]
  },
  {
   "cell_type": "markdown",
   "metadata": {},
   "source": [
    "### 根据自适应滤波的基本原理，设计一种可较好保留纹理细节的自适应中值滤波器对图像（5%椒盐噪声）进行恢复"
   ]
  },
  {
   "cell_type": "markdown",
   "metadata": {},
   "source": [
    "- ##### 中值滤波器受滤波窗口大小影响较大，用于消除噪声和保护图像细节，两者会存在冲突。如果窗口较小，则能较好地保护图像中的一些细节信息，但对噪声的过滤效果就会打折扣；反之，如果窗口尺寸较大则会有较好的噪声过滤效果，但也会对图像造成一定的模糊效果，从而丢失一部分细节信息。\n",
    "- #### 自适应中值滤波算法进行图像恢复：根据图像处理的空间相关性原则，采用自适应的方法选择不同的滑动窗口大小；\n",
    "![](https://img-blog.csdnimg.cn/20200610214750788.png?x-oss-process=image/watermark,type_ZmFuZ3poZW5naGVpdGk,shadow_10,text_aHR0cHM6Ly9ibG9nLmNzZG4ubmV0L3FxXzQyNzc5NDIz,size_16,color_FFFFFF,t_70)"
   ]
  },
  {
   "cell_type": "code",
   "execution_count": 8,
   "metadata": {},
   "outputs": [],
   "source": [
    "# 自适应中值滤波器\n",
    "\n",
    "import cv2\n",
    "import numpy as np\n",
    "\n",
    "def AdaptProcess(src, i, j, minSize, maxSize):\n",
    "\n",
    "    filter_size = minSize\n",
    "\n",
    "    kernelSize = filter_size // 2\n",
    "    rio = src[i-kernelSize:i+kernelSize+1, j-kernelSize:j+kernelSize+1]\n",
    "    minPix = np.min(rio)\n",
    "    maxPix = np.max(rio)\n",
    "    medPix = np.median(rio)\n",
    "    zxy = src[i, j]\n",
    "\n",
    "    if (medPix > minPix) and (medPix < maxPix):\n",
    "        if (zxy.all() > minPix.all()) and (zxy.all() < maxPix.all()):\n",
    "            return zxy\n",
    "        else:\n",
    "            return medPix\n",
    "    else:\n",
    "        filter_size = filter_size + 2\n",
    "        if filter_size <= maxSize:\n",
    "            return AdaptProcess(src, i, j, filter_size, maxSize)\n",
    "        else:\n",
    "            return medPix\n",
    "\n",
    "\n",
    "def adapt_meadian_filter(img, minsize, maxsize):\n",
    "\n",
    "    borderSize = maxsize // 2\n",
    "\n",
    "    src = cv2.copyMakeBorder(img, borderSize, borderSize, borderSize, borderSize, cv2.BORDER_REFLECT)\n",
    "\n",
    "    for m in range(borderSize, src.shape[0] - borderSize):\n",
    "        for n in range(borderSize, src.shape[1] - borderSize):\n",
    "            src[m, n] = AdaptProcess(src, m, n, minsize, maxsize)\n",
    "\n",
    "    dst = src[borderSize:borderSize+img.shape[0], borderSize:borderSize+img.shape[1]]\n",
    "    return dst\n",
    "\n",
    "\n",
    "# 导入原图像\n",
    "image = cv2.imread('E:/jupyter_notebook_files/ImageAndVideoProcess/test2/3_5.jpg')\n",
    "\n",
    "imaged = adapt_meadian_filter(image, 2, 9)\n",
    "cv2.imshow(\"original\", image)\n",
    "cv2.imshow(\"adapt_meadian_filter\", imaged)\n",
    "\n",
    "cv2.waitKey()\n",
    "cv2.destroyAllWindows()\n",
    "\n"
   ]
  },
  {
   "cell_type": "code",
   "execution_count": 22,
   "metadata": {},
   "outputs": [],
   "source": [
    "meanValue_img=cv2.medianBlur(image, 3)\n",
    "#输出处理好的图像\n",
    "cv2.imshow('src',image)\n",
    "cv2.imshow('out',meanValue_img)\n",
    "cv2.waitKey()\n",
    "cv2.destroyAllWindows()"
   ]
  },
  {
   "cell_type": "code",
   "execution_count": 25,
   "metadata": {},
   "outputs": [
    {
     "data": {
      "text/plain": [
       "'3.7.3 (default, Mar 27 2019, 17:13:21) [MSC v.1915 64 bit (AMD64)]'"
      ]
     },
     "execution_count": 25,
     "metadata": {},
     "output_type": "execute_result"
    }
   ],
   "source": [
    "import sys\n",
    "sys.version"
   ]
  },
  {
   "cell_type": "code",
   "execution_count": null,
   "metadata": {},
   "outputs": [],
   "source": []
  }
 ],
 "metadata": {
  "kernelspec": {
   "display_name": "Python 3",
   "language": "python",
   "name": "python3"
  },
  "language_info": {
   "codemirror_mode": {
    "name": "ipython",
    "version": 3
   },
   "file_extension": ".py",
   "mimetype": "text/x-python",
   "name": "python",
   "nbconvert_exporter": "python",
   "pygments_lexer": "ipython3",
   "version": "3.7.3"
  }
 },
 "nbformat": 4,
 "nbformat_minor": 2
}

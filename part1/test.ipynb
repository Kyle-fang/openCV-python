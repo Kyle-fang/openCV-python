{
 "cells": [
  {
   "cell_type": "code",
   "execution_count": 2,
   "metadata": {},
   "outputs": [
    {
     "name": "stdout",
     "output_type": "stream",
     "text": [
      "4.5.3\n"
     ]
    }
   ],
   "source": [
    "import cv2\n",
    "print(cv2.__version__)"
   ]
  },
  {
   "cell_type": "markdown",
   "metadata": {},
   "source": [
    "# 图像载入与显示"
   ]
  },
  {
   "cell_type": "code",
   "execution_count": 3,
   "metadata": {},
   "outputs": [],
   "source": [
    "# 读取图像\n",
    "img1 = cv2.imread(\"E:/jupyter_notebook_files/ImageAndVideoProcess/test1/1.jpg\")\n",
    "# 创建一个名为lesson的窗口\n",
    "cv2.namedWindow(\"lesson\")\n",
    "# 显示图像\n",
    "cv2.imshow(\"lesson\", img1)\n",
    "# hold image\n",
    "cv2.waitKey(0)\n",
    "cv2.destroyAllWindows()"
   ]
  },
  {
   "cell_type": "markdown",
   "metadata": {},
   "source": [
    "# 将原图的RGB三通道分离并显示"
   ]
  },
  {
   "cell_type": "code",
   "execution_count": 4,
   "metadata": {},
   "outputs": [],
   "source": [
    "b,g,r = cv2.split(img1)\n",
    "cv2.imshow(\"exampleB\", b)  # 展示B通道图\n",
    "cv2.imshow(\"exampleG\", g)\n",
    "cv2.imshow(\"exampleR\", r)\n",
    "#hold image\n",
    "cv2.waitKey(0)\n",
    "cv2.destroyAllWindows()"
   ]
  },
  {
   "cell_type": "markdown",
   "metadata": {},
   "source": [
    "# 将原图像进行直方图均衡化并将处理后的结果保存至equalizeHistImage中显示并保存"
   ]
  },
  {
   "cell_type": "markdown",
   "metadata": {},
   "source": [
    "## 对曝光过度或者逆光拍摄的图片可以通过直方图均衡化的方法用来增强局部或者整体的对比度"
   ]
  },
  {
   "cell_type": "markdown",
   "metadata": {},
   "source": [
    "![jupyter](https://docs.opencv.org/3.4.0/histogram_sample.jpg)"
   ]
  },
  {
   "cell_type": "markdown",
   "metadata": {},
   "source": [
    "##### 直方图的左边部分显示了图像中较暗像素的数量，右边区域显示了更明亮的像素。从直方图中可以看到，深色区域的像素数量比亮色区域更多，而中间色调的数量(中值大约在127左右)则少得多。"
   ]
  },
  {
   "cell_type": "markdown",
   "metadata": {},
   "source": [
    "### 绘制img1的直方图 "
   ]
  },
  {
   "cell_type": "code",
   "execution_count": 5,
   "metadata": {},
   "outputs": [
    {
     "data": {
      "text/plain": [
       "<Figure size 640x480 with 1 Axes>"
      ]
     },
     "metadata": {},
     "output_type": "display_data"
    }
   ],
   "source": [
    "from matplotlib import pyplot as plt\n",
    "\n",
    "plt.hist(img1.ravel(), 256, [0,256])\n",
    "plt.show()"
   ]
  },
  {
   "cell_type": "markdown",
   "metadata": {},
   "source": [
    "#### 直方图均衡化\n",
    "- ##### 考虑一个图像，其像素值仅限制在特定的值范围内。例如，更明亮的图像将使所有像素都限制在高值中。但是一个好的图像会有来自图像的所有区域的像素。所以你需要把这个直方图拉伸到两端(如下图所给出的)，这就是直方图均衡的作用(用简单的话说)。这通常会改善图像的对比度"
   ]
  },
  {
   "cell_type": "markdown",
   "metadata": {},
   "source": [
    "![](https://docs.opencv.org/3.4.0/histogram_equalization.png)"
   ]
  },
  {
   "cell_type": "markdown",
   "metadata": {},
   "source": [
    "###### OpenCV有一个函数可以这样做，cv.equalizeHist()，它封装好了计算cdf和cdf重映射以及根据cdf表生成直方图均衡图像的过程。它的输入只是灰度图像，输出是我们的直方图均衡图像。"
   ]
  },
  {
   "cell_type": "code",
   "execution_count": 6,
   "metadata": {},
   "outputs": [
    {
     "data": {
      "text/plain": [
       "-1"
      ]
     },
     "execution_count": 6,
     "metadata": {},
     "output_type": "execute_result"
    }
   ],
   "source": [
    "import numpy as np \n",
    "\n",
    "cv2.imshow(\"before\", img1)\n",
    "\n",
    "# Histogram Equalization\n",
    "r2 = cv2.equalizeHist(r)\n",
    "g2 = cv2.equalizeHist(g)\n",
    "b2 = cv2.equalizeHist(b)\n",
    "\n",
    "equalizeHistImage = img1.copy()\n",
    "equalizeHistImage[:,:,0] = g2\n",
    "equalizeHistImage[:,:,1] = b2\n",
    "equalizeHistImage[:,:,2] = r2\n",
    "\n",
    "#print(equalizeHistImage)\n",
    "\n",
    "cv2.imshow(\"after\", equalizeHistImage)\n",
    "#plt.show()\n",
    "cv2.waitKey(0)"
   ]
  },
  {
   "cell_type": "markdown",
   "metadata": {},
   "source": [
    "# 将原图像进行锐化处理并将处理后的结果保存至filter2DImage中并显示"
   ]
  },
  {
   "cell_type": "code",
   "execution_count": 8,
   "metadata": {},
   "outputs": [],
   "source": [
    "blur_img = cv2.GaussianBlur(img1, (0, 0), 5)\n",
    "usm = cv2.addWeighted(img1, 1.5, blur_img, -0.5, 0)\n",
    "#cv.addWeighted(图1,权重1, 图2, 权重2, gamma修正系数, dst可选参数, dtype可选参数)\n",
    "cv2.imshow(\"mask image\", usm)\n",
    "\n",
    "#锐化处理\n",
    "h, w = img1.shape[:2]\n",
    "result = np.zeros([h, w*2, 3], dtype=img1.dtype)\n",
    "result[0:h,0:w,:] = img1\n",
    "result[0:h,w:2*w,:] = usm\n",
    "cv2.putText(result, \"original image\", (10, 30), cv2.FONT_ITALIC, 1.0, (0, 0, 255), 2)\n",
    "cv2.putText(result, \"sharpen image\", (w+10, 30), cv2.FONT_ITALIC, 1.0, (0, 0, 255), 2)\n",
    "#cv2.putText(图像名，标题，（x坐标，y坐标），字体，字的大小，颜色，字的粗细）\n",
    "cv2.imshow(\"sharpen_image\", result)\n",
    "\n",
    "cv2.waitKey(0)\n",
    "cv2.destroyAllWindows()"
   ]
  },
  {
   "cell_type": "markdown",
   "metadata": {},
   "source": [
    "# 将源图像进行伽马矫正，利用滑动条对参数进行调整"
   ]
  },
  {
   "cell_type": "markdown",
   "metadata": {},
   "source": [
    "- ##### 用来图像增强，其提升了暗部细节，简单来说就是通过非线性变换，让图像从暴光强度的线性响应变得更接近人眼感受的响应，即将漂白（相机曝光）或过暗（曝光不足）的图片，进行矫正\n",
    "- 伽马值小于1时，会拉伸图像中灰度级较低的区域，同时会压缩灰度级较高的部分\n",
    "- 伽马值大于1时，会拉伸图像中灰度级较高的区域，同时会压缩灰度级较低的部分"
   ]
  },
  {
   "cell_type": "code",
   "execution_count": 20,
   "metadata": {},
   "outputs": [
    {
     "data": {
      "text/plain": [
       "-1"
      ]
     },
     "execution_count": 20,
     "metadata": {},
     "output_type": "execute_result"
    }
   ],
   "source": [
    "import copy\n",
    "\n",
    "#伽马变换\n",
    "gamma=copy.deepcopy(img1)\n",
    "rows=img1.shape[0]\n",
    "cols=img1.shape[1]\n",
    "for i in range(rows):\n",
    "    for j in range(cols):\n",
    "        gamma[i][j]=20*pow(gamma[i][j],0.8)\n",
    "\n",
    "#通过窗口展示图片 第一个参数为窗口名 第二个为读取的图片变量\n",
    "cv2.imshow('original',img1)\n",
    "cv2.imshow('gamma',gamma)\n",
    "\n",
    "#暂停cv2模块 不然图片窗口一瞬间即就会消失 观察不到\n",
    "cv2.waitKey(0)"
   ]
  },
  {
   "cell_type": "markdown",
   "metadata": {},
   "source": [
    "### 滑动条回调 "
   ]
  },
  {
   "cell_type": "code",
   "execution_count": 1,
   "metadata": {},
   "outputs": [],
   "source": [
    "import copy\n",
    "import cv2\n",
    "import numpy as np\n",
    "#导入图像\n",
    "img = cv2.imread(\"E:/jupyter_notebook_files/ImageAndVideoProcess/test1/1.jpg\")\n",
    "#新建一个窗口\n",
    "cv2.namedWindow('gamma')\n",
    "#定义回调函数，这里pass表示不做任何事，用作占位语句保持程序结构的完整性\n",
    "def nothing(x):\n",
    "    pass\n",
    "#新建一个滑动条\n",
    "cv2.createTrackbar('intensity','gamma',1, 500, nothing)\n",
    "\n",
    "intensity = 250\n",
    "while(1):\n",
    "    gamma = np.power(img/float(np.max(img)), intensity*0.01)\n",
    "    cv2.imshow('gamma',gamma)\n",
    "    #返回滑块所在位置对应的值\n",
    "    intensity = cv2.getTrackbarPos('intensity','gamma')\n",
    "    if cv2.waitKey(1)==ord('q'):\n",
    "        break\n",
    "cv2.destroyAllWindows()"
   ]
  },
  {
   "cell_type": "code",
   "execution_count": null,
   "metadata": {},
   "outputs": [],
   "source": []
  }
 ],
 "metadata": {
  "kernelspec": {
   "display_name": "Python 3",
   "language": "python",
   "name": "python3"
  },
  "language_info": {
   "codemirror_mode": {
    "name": "ipython",
    "version": 3
   },
   "file_extension": ".py",
   "mimetype": "text/x-python",
   "name": "python",
   "nbconvert_exporter": "python",
   "pygments_lexer": "ipython3",
   "version": "3.7.3"
  }
 },
 "nbformat": 4,
 "nbformat_minor": 2
}
